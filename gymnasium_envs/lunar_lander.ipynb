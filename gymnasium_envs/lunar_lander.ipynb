{
 "cells": [
  {
   "cell_type": "code",
   "execution_count": null,
   "metadata": {},
   "outputs": [],
   "source": [
    "import gymnasium as gym\n",
    "\n",
    "import os, sys\n",
    "\n",
    "train_env = gym.make('LunarLander-v2')\n",
    "test_env = gym.make('LunarLander-v2', render_mode=\"human\")\n",
    "\n",
    "current_dir = os.getcwd()\n",
    "parent_dir = os.path.dirname(current_dir)\n",
    "sys.path.append(parent_dir)"
   ]
  },
  {
   "cell_type": "code",
   "execution_count": null,
   "metadata": {},
   "outputs": [],
   "source": [
    "def evaluate_model(model, n_games):\n",
    "    for _ in range(n_games):\n",
    "        done = False\n",
    "        observation, _ = test_env.reset()\n",
    "        sum_reward = 0\n",
    "        while not done:            \n",
    "            action = model.act(observation)\n",
    "            observation, reward, done, _, _ = test_env.step(action)\n",
    "            sum_reward += reward\n",
    "        print(f\"{n_games}th game: {sum_reward}\")\n",
    "\n"
   ]
  },
  {
   "cell_type": "code",
   "execution_count": null,
   "metadata": {},
   "outputs": [],
   "source": [
    "def train_model(model, n_games):\n",
    "    for game in range(n_games):\n",
    "        done = False\n",
    "        obs, _ = train_env.reset()\n",
    "        sum_reward = 0\n",
    "        episode_length=0\n",
    "\n",
    "        while not done:\n",
    "            action = model.learning_act(obs)\n",
    "            new_obs, reward, done,_, _ = train_env.step(action)\n",
    "            model.store_memory(obs, new_obs, action, reward, done)\n",
    "\n",
    "            model.learn()\n",
    "            obs = new_obs\n",
    "\n",
    "            sum_reward += reward\n",
    "            episode_length += 1\n",
    "            if episode_length > 100:\n",
    "                done = True"
   ]
  },
  {
   "cell_type": "code",
   "execution_count": null,
   "metadata": {},
   "outputs": [],
   "source": [
    "from models.dqn import DQN_Agent\n",
    "model = DQN_Agent(n_observations=8, n_actions=4, batch_size=64, double_network=True ,big_net=True)"
   ]
  },
  {
   "cell_type": "code",
   "execution_count": null,
   "metadata": {},
   "outputs": [],
   "source": [
    "train_model(model=model, n_games=1000)"
   ]
  },
  {
   "cell_type": "code",
   "execution_count": null,
   "metadata": {},
   "outputs": [],
   "source": [
    "evaluate_model(model=model, n_games=3)"
   ]
  }
 ],
 "metadata": {
  "kernelspec": {
   "display_name": "Python 3",
   "language": "python",
   "name": "python3"
  },
  "language_info": {
   "codemirror_mode": {
    "name": "ipython",
    "version": 3
   },
   "file_extension": ".py",
   "mimetype": "text/x-python",
   "name": "python",
   "nbconvert_exporter": "python",
   "pygments_lexer": "ipython3",
   "version": "3.10.12"
  }
 },
 "nbformat": 4,
 "nbformat_minor": 2
}
