{
 "cells": [
  {
   "cell_type": "code",
   "execution_count": null,
   "metadata": {},
   "outputs": [],
   "source": [
    "import gymnasium as gym\n",
    "import os, sys\n",
    "\n",
    "current_dir = os.getcwd()\n",
    "parent_dir = os.path.dirname(current_dir)\n",
    "sys.path.append(parent_dir)\n",
    "\n",
    "from models.dqn import DQN_Agent\n",
    "import torch"
   ]
  },
  {
   "cell_type": "code",
   "execution_count": null,
   "metadata": {},
   "outputs": [],
   "source": [
    "train_env = gym.make(\"ALE/Pong-ram-v5\", render_mode=None)\n",
    "test_env = gym.make(\"ALE/Pong-ram-v5\", render_mode=\"human\")"
   ]
  },
  {
   "cell_type": "code",
   "execution_count": null,
   "metadata": {},
   "outputs": [],
   "source": [
    "model = DQN_Agent(n_observations=128, n_actions=6, big_net=True,\n",
    "                  double_network=True, tau=1e-2, batch_size=128, lr=1e-4, eps_decay=0.9999)"
   ]
  },
  {
   "cell_type": "code",
   "execution_count": null,
   "metadata": {},
   "outputs": [],
   "source": [
    "def train_model(model, n_games):\n",
    "    for game in range(n_games):\n",
    "        done = False\n",
    "        obs, _ = train_env.reset()\n",
    "        sum_reward = 0\n",
    "        episode_length=0\n",
    "\n",
    "        while not done:\n",
    "            action = model.learning_act(obs)\n",
    "            new_obs, reward, done,_, _ = train_env.step(action)\n",
    "            model.store_memory(obs, new_obs, action, reward, done)\n",
    "\n",
    "            model.learn()\n",
    "            obs = new_obs\n",
    "\n",
    "            sum_reward += reward\n",
    "            episode_length += 1\n",
    "\n",
    "        print(game, \": \", sum_reward)"
   ]
  },
  {
   "cell_type": "code",
   "execution_count": null,
   "metadata": {},
   "outputs": [],
   "source": [
    "def evaluate_model(model, n_games):\n",
    "    for _ in range(n_games):\n",
    "        done = False\n",
    "        observation, _ = test_env.reset()\n",
    "        sum_reward = 0\n",
    "        while not done:            \n",
    "            action = model.act(observation)\n",
    "            print(action)\n",
    "            observation, reward, done, _, _ = test_env.step(action)\n",
    "            sum_reward += reward\n",
    "        print(f\"{n_games}th game: {sum_reward}\")"
   ]
  },
  {
   "cell_type": "code",
   "execution_count": null,
   "metadata": {},
   "outputs": [],
   "source": [
    "train_model(model=model, n_games=100)\n",
    "torch.save(model.policy_network.state_dict(), \"../weights/pong_ram.pt\")"
   ]
  },
  {
   "cell_type": "code",
   "execution_count": null,
   "metadata": {},
   "outputs": [],
   "source": [
    "evaluate_model(model=model, n_games=5)"
   ]
  }
 ],
 "metadata": {
  "kernelspec": {
   "display_name": "Python 3",
   "language": "python",
   "name": "python3"
  },
  "language_info": {
   "codemirror_mode": {
    "name": "ipython",
    "version": 3
   },
   "file_extension": ".py",
   "mimetype": "text/x-python",
   "name": "python",
   "nbconvert_exporter": "python",
   "pygments_lexer": "ipython3",
   "version": "3.10.12"
  }
 },
 "nbformat": 4,
 "nbformat_minor": 2
}
